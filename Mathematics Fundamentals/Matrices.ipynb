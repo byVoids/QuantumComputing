{
 "cells": [
  {
   "cell_type": "markdown",
   "id": "6711fe71",
   "metadata": {},
   "source": [
    "# Matrices"
   ]
  },
  {
   "cell_type": "markdown",
   "id": "3e70c352",
   "metadata": {},
   "source": [
    "Matrices (matrices) are a mathematical object frequently used in mathematical operations and science. Matrices represent an orderly arranged table of numbers. In general terms, we can say that we work with Matrices in almost all the operations we perform when working with Quantum Computers.  \n",
    "\n",
    "Here are some basic concepts and operations regarding matrices:\n",
    "\n",
    "**1) Matrix Notation:** When expressing the size of a matrix, it is usually expressed as \"row x column\". For example, when we say that a matrix is 3x2 in size, we indicate that this matrix consists of 3 rows and 2 columns.\n",
    "\n",
    "**2) Matrix Addition and Subtraction:** To add or subtract two matrices, they must have the same size. During this process, elements in the same position are added or subtracted. For example, when adding two 2x2 matrices, the elements of both matrices in the same position are added and the results of this sum are included in the new matrix.\n",
    "\n",
    "**3) Matrix Multiplication:** In order to multiply two matrices, the number of columns of the first matrix and the number of rows of the second matrix must be the same. The size of the matrix resulting from the multiplication is determined by the number of rows of the first matrix and the number of columns of the second matrix. Matrix multiplication calculates the elements of the new matrix by multiplying the elements of the row of the first matrix by the columns of the second matrix.\n",
    "\n",
    "**4) Inverse of Matrices:** Not every matrix may have an inverse. A matrix with an inverse is a matrix that when multiplied gives the unit matrix (matrix of ones). Matrices that are not invertible are called \"singular\" or \"non-invertible\".\n",
    "\n",
    "----------------"
   ]
  },
  {
   "cell_type": "markdown",
   "id": "1201b692",
   "metadata": {},
   "source": [
    "**Tensor Product: (⊗)** Tensor Product is a mathematical operation that expresses the multiplication of multidimensional vectors and matrices. This operation allows multiplication of tensors (multidimensional arrays or matrices). Tensor multiplication is used to model and analyze various mathematical and physical problems in multidimensional spaces.\n",
    "\n",
    "----------------"
   ]
  },
  {
   "cell_type": "markdown",
   "id": "497a418e",
   "metadata": {},
   "source": [
    "### Some Term About Matrices\n",
    "\n",
    "**a) Identity Matrices:** The identity matrix is a **square matrix**, a special matrix in which all elements in its diagonal are 1 (unit) and all other elements are 0. It is usually denoted by \"I\". For example, the 2x2 identity matrix is:\n",
    "\n",
    "I = | 1 0 |\n",
    "    | 0 1 |\n",
    "\n",
    "**b) Inverse Matrices:** The inverse of a matrix is a matrix that, when multiplied by that matrix, yields the identity matrix. That is, if the inverse of matrix A is A^(-1), then A * A^(-1) = I. An inverse matrix can be thought of as a matrix that can be multiplied to the right side of a matrix.\n",
    "\n",
    "**c) Transpose:** Transposing a matrix is an operation used to transform its rows into columns and its columns into rows. Each row of the matrix is taken and written as a column respectively. Transposing does not change the size of a matrix, only the arrangement of its elements. For example, the transpose of matrix A is denoted by A^T."
   ]
  },
  {
   "cell_type": "markdown",
   "id": "698bb824",
   "metadata": {},
   "source": [
    "**Matrices Containing Complex Numbers:**\n",
    "Matrices can contain complex numbers as well as real numbers. Complex numbers consist of real and imaginary parts. If a matrix contains complex numbers and there is an asterisk (*) at the beginning of this matrix, this represents complex conjugation. That is, it changes the sign of the complex numbers in the matrix.\n",
    "\n",
    "\n",
    "**Adjoint Matrix:**\n",
    "Adjoint matrix is the matrix obtained by transposing a matrix and then doing its complex conjugation. In matrices consisting of complex numbers, this operation is expressed as adding a \"+\" sign to the matrix.\n",
    "\n",
    "\n",
    "Properties of Special Matrices:\n",
    "\n",
    "- The identity matrix, when multiplied by any matrix, gives the same matrix.\n",
    "- The inverse matrix multiplied by a matrix gives the identity matrix.\n",
    "- The transpose operation converts the rows of the matrix into columns and columns into rows.\n",
    "- The conjugate matrix is obtained by taking complex conjugation of its transpose.\n",
    "\n",
    "**Lineer Transformasyon:**\n",
    "\n",
    "a) **Unitary Matrix (Ünitary Matris):**\n",
    "Birim matris, karmaşık sayılardan oluşan bir kare matristir ve birim matrisin karmaşık sayılara genişletilmiş halidir. Bir matris \"unitary\" olarak adlandırılırsa, bu matrisin çıkarılabilir olduğu anlamına gelir, yani bu matrisin tersi vardır ve bu matrisle çarpıldığında birim matris elde edilir. Unitary matrisler, quantum hesaplama ve diğer alanlarda kullanılır ve özellikle çıkarılabilir işlemleri temsil eder.\n",
    "\n",
    "b) **Hermitian Matrix (Hermitian Matris veya Self-adjoint Matris):**\n",
    "Hermitian matris, kompleks sayılardan oluşan bir kare matris olup, matrisin transpozunun karmaşık konjugasyonunu alındığında kendisiyle aynı olan bir matristir. Yani, A matrisi hermitian ise, A^H = A olur, burada A^H, matrisin transpozunun karmaşık konjugasyonunu temsil eder. Hermitian matrisler, özellikle quantum mekaniği ve matematiksel fizikte sıkça kullanılır.\n"
   ]
  }
 ],
 "metadata": {
  "kernelspec": {
   "display_name": "Python 3 (ipykernel)",
   "language": "python",
   "name": "python3"
  },
  "language_info": {
   "codemirror_mode": {
    "name": "ipython",
    "version": 3
   },
   "file_extension": ".py",
   "mimetype": "text/x-python",
   "name": "python",
   "nbconvert_exporter": "python",
   "pygments_lexer": "ipython3",
   "version": "3.11.4"
  }
 },
 "nbformat": 4,
 "nbformat_minor": 5
}
