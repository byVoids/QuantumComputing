{
 "cells": [
  {
   "cell_type": "markdown",
   "id": "8db48f22",
   "metadata": {},
   "source": [
    "# Possibility\n",
    "\n",
    "**With a simple definition;**\n",
    "* Probability is the mathematical value or probability percentage of something happening or not happening.\n",
    "\n",
    "**The concept of probability is expressed in the following terms;**\n",
    "\n",
    "1. **P(X) (Probability of X):** P(X) expresses the probability of an event (X) occurring. It is a number used to determine how many times this event occurs or occurs in an experiment. It usually takes a value between 0 and 1. **0** means that **X** event will never happen, **1** means that the event will definitely happen.\n",
    "\n",
    "---------------------------------------\n",
    "\n",
    "2. **P(X and Y) (Probability of X and Y Occurring Together):** P(X and Y) refers to the probability of two different events (X and Y) occurring at the same time. For example, let's consider the probability of getting a 4 on one roll of the dice (P(X)) and the probability of getting a 6 on another roll of the dice at the same time (P(Y)). P(X and Y) calculates the probability of both events occurring at the same time.\n",
    "\n",
    "---------------------------------------\n",
    "\n",
    "3. **P(X or Y) (Probability of X or Y occurring):** P(X or Y) expresses the probability of at least one of two different events occurring. For example, let's consider the probability of drawing a red card (X) or a heart card (Y) from a deck of cards. P(X or Y) calculates the probability of either X or Y occurring."
   ]
  },
  {
   "cell_type": "markdown",
   "id": "aaa7c313",
   "metadata": {},
   "source": [
    "---------------------------------------\n",
    "\n",
    "Now, here we will talk about the concepts of **and and or**, which are very popular in Probability.\n",
    "\n",
    "Let's start by talking about **And**."
   ]
  },
  {
   "cell_type": "markdown",
   "id": "2376b083",
   "metadata": {},
   "source": [
    "*For example;*\n",
    "\n",
    "The case P(A and B) =0 is called **Mutually Exculusive.** That is, if the probability of both happening at the same time is zero. So either A or B happens, not both at the same time.\n",
    "\n",
    "The academic definition of **Mutually Exculusive** is as follows;\n",
    "\n",
    "It refers to a situation where two or more events or situations cannot occur at the same time or are mutually exclusive. If two events or situations are \"mutually exclusive\", if one occurs, the other cannot occur. To give an example, this situation: The status of a student passing and failing an exam. The student either passes or fails the exam, not both at the same time. Both of these situations are mutually exclusive."
   ]
  },
  {
   "cell_type": "markdown",
   "id": "6cd059a8",
   "metadata": {},
   "source": [
    "**There is also the opposite situation. Independent. Well;**\n",
    "\n",
    "The situation where P(A and B) ≠ 0 is **called Independent.** In other words, it refers to the situation where two or more events or variables are independent of each other and the occurrence of an event or the determination of the value of a variable has no effect on the occurrence of other events or the knowledge of the values of other variables.To give an example, this situation: For example, let's consider two dice rolls. The results of both dice rolls are independent of each other. The result of one dice does not affect the result of the other dice. Therefore, the results of the two dice are independent.\n",
    "\n",
    "---------------------------------------\n"
   ]
  },
  {
   "cell_type": "markdown",
   "id": "2918e05c",
   "metadata": {},
   "source": [
    "Let's start by talking about **OR**."
   ]
  },
  {
   "cell_type": "markdown",
   "id": "50175437",
   "metadata": {},
   "source": [
    "P(A or B) (Probability of A or B Occurring): This refers to the probability of at least one of two different events occurring. So either A happens or B happens. When calculating this probability, we can consider two different scenarios:\n",
    "\n",
    "1) If A and B are Not Independent (Dependent Events): If events A and B are dependent on each other, that is, if the occurrence of one event affects the other, you can calculate P(A) + P(B) when calculating P(A or B). This does not include the situation where both events occur at the same time because they are already dependent.\n",
    "\n",
    "2) If A and B are Independent Events: If events A and B are independent of each other, that is, the occurrence of one event does not affect the other, when calculating P(A or B), it is calculated as P(A) + P(B) - P(A and B). makes. This removes the possibility of two events occurring at the same time, since it is necessary to calculate this probability for independent events.\n"
   ]
  },
  {
   "cell_type": "markdown",
   "id": "a53347ad",
   "metadata": {},
   "source": [
    "**Example:**\n",
    "\n",
    "Let's say event A is \"getting a 4 on a roll of the dice\" and event B is \"getting a 6 on a roll of the dice\". These two events are independent because the occurrence of one does not affect the other. Now let's calculate P(A or B):\n",
    "\n",
    "**P(A) = 1/6** (because a dice has 6 different faces and 4 appears on only one face)\n",
    "\n",
    "**P(B) = 1/6** (with the same logic, the probability of getting 6)\n",
    "\n",
    "**P(A and B) = 0** (because it is impossible to get both 4 and 6 in one roll of the dice)\n",
    "\n",
    "**P(A or B)** = P(A) + P(B) - P(A and B) = (1/6) + (1/6) - 0 = 2/6 = 1/3\n",
    "\n",
    "Consequently, the probability of two independent events, i.e. getting a 4 on a dice roll and getting a 6 at the same time, is P(A or B) = 1/3."
   ]
  },
  {
   "cell_type": "code",
   "execution_count": null,
   "id": "cf96ef76",
   "metadata": {},
   "outputs": [],
   "source": []
  }
 ],
 "metadata": {
  "kernelspec": {
   "display_name": "Python 3 (ipykernel)",
   "language": "python",
   "name": "python3"
  },
  "language_info": {
   "codemirror_mode": {
    "name": "ipython",
    "version": 3
   },
   "file_extension": ".py",
   "mimetype": "text/x-python",
   "name": "python",
   "nbconvert_exporter": "python",
   "pygments_lexer": "ipython3",
   "version": "3.11.4"
  }
 },
 "nbformat": 4,
 "nbformat_minor": 5
}
