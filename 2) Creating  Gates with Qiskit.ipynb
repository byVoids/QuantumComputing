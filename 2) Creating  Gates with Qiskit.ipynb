{
 "cells": [
  {
   "cell_type": "markdown",
   "id": "27ffd18d",
   "metadata": {},
   "source": [
    "**1) Creation Gates with Qiskit**\n",
    "\n",
    "Now let's look at how to encode a different binary string as input. For this we need what is known as a **NOT gate**. This is the most basic operation you can do on the computer. It simply flips the bit value: 0 h makes it 1, or 1 makes it 0. For this we use a gate for qubits known as the X gate."
   ]
  },
  {
   "cell_type": "code",
   "execution_count": 8,
   "id": "8fdb9ead",
   "metadata": {},
   "outputs": [],
   "source": [
    "# 1. Libraries \n",
    "from qiskit import QuantumCircuit\n",
    "from qiskit.providers.aer import AerSimulator"
   ]
  },
  {
   "cell_type": "code",
   "execution_count": 6,
   "id": "ee4d86f5",
   "metadata": {},
   "outputs": [
    {
     "data": {
      "text/html": [
       "<pre style=\"word-wrap: normal;white-space: pre;background: #fff0;line-height: 1.1;font-family: &quot;Courier New&quot;,Courier,monospace\">     ┌───┐┌─┐   \n",
       "q_0: ┤ X ├┤M├───\n",
       "     ├───┤└╥┘┌─┐\n",
       "q_1: ┤ X ├─╫─┤M├\n",
       "     └┬─┬┘ ║ └╥┘\n",
       "q_2: ─┤M├──╫──╫─\n",
       "      └╥┘  ║  ║ \n",
       "c: 3/══╩═══╩══╩═\n",
       "       2   0  1 </pre>"
      ],
      "text/plain": [
       "     ┌───┐┌─┐   \n",
       "q_0: ┤ X ├┤M├───\n",
       "     ├───┤└╥┘┌─┐\n",
       "q_1: ┤ X ├─╫─┤M├\n",
       "     └┬─┬┘ ║ └╥┘\n",
       "q_2: ─┤M├──╫──╫─\n",
       "      └╥┘  ║  ║ \n",
       "c: 3/══╩═══╩══╩═\n",
       "       2   0  1 "
      ]
     },
     "execution_count": 6,
     "metadata": {},
     "output_type": "execute_result"
    }
   ],
   "source": [
    "# Let's Create 3 Quantum Bits, 3 Classic Bits\n",
    "qc = QuantumCircuit(3, 3)\n",
    "\n",
    "# Installs the X Gate on Qubits 0 and 1. That is, it reverses the value of both Qubits.\n",
    "qc.x([0,1])\n",
    "\n",
    "# Measures 3 Qubits in 3 Bits.\n",
    "qc.measure([0,1,2], [0,1,2])\n",
    "\n",
    "# Draw the Circuit\n",
    "qc.draw()"
   ]
  },
  {
   "cell_type": "code",
   "execution_count": 9,
   "id": "6744782d",
   "metadata": {},
   "outputs": [
    {
     "data": {
      "text/plain": [
       "{'011': 1024}"
      ]
     },
     "execution_count": 9,
     "metadata": {},
     "output_type": "execute_result"
    }
   ],
   "source": [
    "# Let's See the Results.\n",
    "sim = AerSimulator()  \n",
    "job = sim.run(qc)      \n",
    "result = job.result()  \n",
    "result.get_counts()    "
   ]
  },
  {
   "cell_type": "markdown",
   "id": "654d85db",
   "metadata": {},
   "source": [
    "**2) Creating a Door with Qiskit**\n",
    "\n",
    "Now let's look at how to encode a different binary string as input. For this we need what is known as a **NOT gate**. This is the most basic operation you can do on the computer. It simply flips the bit value: 0 h makes it 1, or 1 makes it 0. For this we use a gate for qubits known as the X gate."
   ]
  },
  {
   "cell_type": "code",
   "execution_count": 10,
   "id": "03e12d00",
   "metadata": {},
   "outputs": [
    {
     "data": {
      "text/html": [
       "<pre style=\"word-wrap: normal;white-space: pre;background: #fff0;line-height: 1.1;font-family: &quot;Courier New&quot;,Courier,monospace\">     ┌───┐┌─┐   \n",
       "q_0: ┤ X ├┤M├───\n",
       "     ├───┤└╥┘┌─┐\n",
       "q_1: ┤ X ├─╫─┤M├\n",
       "     └┬─┬┘ ║ └╥┘\n",
       "q_2: ─┤M├──╫──╫─\n",
       "      └╥┘  ║  ║ \n",
       "c: 3/══╩═══╩══╩═\n",
       "       2   0  1 </pre>"
      ],
      "text/plain": [
       "     ┌───┐┌─┐   \n",
       "q_0: ┤ X ├┤M├───\n",
       "     ├───┤└╥┘┌─┐\n",
       "q_1: ┤ X ├─╫─┤M├\n",
       "     └┬─┬┘ ║ └╥┘\n",
       "q_2: ─┤M├──╫──╫─\n",
       "      └╥┘  ║  ║ \n",
       "c: 3/══╩═══╩══╩═\n",
       "       2   0  1 "
      ]
     },
     "execution_count": 10,
     "metadata": {},
     "output_type": "execute_result"
    }
   ],
   "source": [
    "# Let's Create 3 Quantum Bits, 3 Classic Bits\n",
    "qc = QuantumCircuit(3, 3)\n",
    "\n",
    "# Installs the X Gate on Qubits 0 and 1. That is, it reverses the value of both Qubits.\n",
    "qc.x([0,1])\n",
    "\n",
    "# Measures 3 Qubits in 3 Bits.\n",
    "qc.measure([0,1,2], [0,1,2])\n",
    "\n",
    "# Draw the Circuit\n",
    "qc.draw()"
   ]
  },
  {
   "cell_type": "code",
   "execution_count": 11,
   "id": "08c1ee2a",
   "metadata": {},
   "outputs": [
    {
     "data": {
      "text/plain": [
       "{'011': 1024}"
      ]
     },
     "execution_count": 11,
     "metadata": {},
     "output_type": "execute_result"
    }
   ],
   "source": [
    "# Let's See the Results.\n",
    "job = sim.run(qc)\n",
    "result = job.result()\n",
    "result.get_counts()"
   ]
  },
  {
   "cell_type": "markdown",
   "id": "4e20ca79",
   "metadata": {},
   "source": [
    "Here, the value **011 represents** the state of the qubits, while 1024 indicates the number of times they have been measured.\n",
    "\n",
    "The value **011 represents** the state of three qubits. In this situation;\n",
    "\n",
    "* The state of the first qubit is 0,\n",
    "* The state of the second qubit is 1,\n",
    "* The state of the third qubit is 1.\n",
    "\n",
    "---------"
   ]
  },
  {
   "cell_type": "markdown",
   "id": "066c9926",
   "metadata": {},
   "source": [
    "**Let's add a CNOT Gate.** \n",
    "\n",
    "The purpose of the C-NOT gate is to make a decision by comparing the states of two qubits. For example, a C-NOT gate can check whether two qubits are the same by generating a 0 if the two qubits are both 0, and a 1 otherwise.\n",
    "\n",
    "This applies to a pair of qubits. One acts as the control qubit (this is the one with the small dot). The other serves as the target qubit (kind of like a target sign, with the big circle and cross)."
   ]
  },
  {
   "cell_type": "code",
   "execution_count": 12,
   "id": "71a164df",
   "metadata": {},
   "outputs": [
    {
     "data": {
      "text/html": [
       "<pre style=\"word-wrap: normal;white-space: pre;background: #fff0;line-height: 1.1;font-family: &quot;Courier New&quot;,Courier,monospace\">     ┌───┐     ┌─┐   \n",
       "q_0: ┤ X ├──■──┤M├───\n",
       "     └───┘┌─┴─┐└╥┘┌─┐\n",
       "q_1: ─────┤ X ├─╫─┤M├\n",
       "          └───┘ ║ └╥┘\n",
       "c: 2/═══════════╩══╩═\n",
       "                0  1 </pre>"
      ],
      "text/plain": [
       "     ┌───┐     ┌─┐   \n",
       "q_0: ┤ X ├──■──┤M├───\n",
       "     └───┘┌─┴─┐└╥┘┌─┐\n",
       "q_1: ─────┤ X ├─╫─┤M├\n",
       "          └───┘ ║ └╥┘\n",
       "c: 2/═══════════╩══╩═\n",
       "                0  1 "
      ]
     },
     "metadata": {},
     "output_type": "display_data"
    }
   ],
   "source": [
    "# Let's Add 2 Quantum Bits, 2 Classic Bits.\n",
    "qc = QuantumCircuit(2, 2)\n",
    "\n",
    "# 1. We Add X Gate (NOT Gate) to the Qubit\n",
    "qc.x(0)\n",
    "\n",
    "# We are adding CNOT Gate. Our Control Qubit is 0, Our Target Qubit is 1.\n",
    "# Inverts the state of the target qubit based on the state of the control qubit.\n",
    "#In this case, the control qubit is qubit 0 and the target qubit is qubit 1.\n",
    "qc.cx(0,1)\n",
    "\n",
    "# We Measure.\n",
    "qc.measure([0,1], [0,1])\n",
    "display(qc.draw())"
   ]
  },
  {
   "cell_type": "code",
   "execution_count": 13,
   "id": "aeb3a511",
   "metadata": {},
   "outputs": [
    {
     "name": "stdout",
     "output_type": "stream",
     "text": [
      "Result:  {'11': 1024}\n"
     ]
    }
   ],
   "source": [
    "# Result \n",
    "job = sim.run(qc)      # run the experiment\n",
    "result = job.result()  # get the results\n",
    "# interpret the results as a \"counts\" dictionary\n",
    "print(\"Result: \", result.get_counts())"
   ]
  },
  {
   "cell_type": "markdown",
   "id": "d892dab3",
   "metadata": {},
   "source": [
    "**Let's add X Gate and C-NOT**"
   ]
  },
  {
   "cell_type": "code",
   "execution_count": 14,
   "id": "3c72ac95",
   "metadata": {},
   "outputs": [
    {
     "data": {
      "text/html": [
       "<pre style=\"word-wrap: normal;white-space: pre;background: #fff0;line-height: 1.1;font-family: &quot;Courier New&quot;,Courier,monospace\">     ┌───┐                     \n",
       "q_0: ┤ X ├──■─────────■────────\n",
       "     ├───┤  │         │        \n",
       "q_1: ┤ X ├──┼────■────■────────\n",
       "     └───┘┌─┴─┐┌─┴─┐  │  ┌─┐   \n",
       "q_2: ─────┤ X ├┤ X ├──┼──┤M├───\n",
       "          └───┘└───┘┌─┴─┐└╥┘┌─┐\n",
       "q_3: ───────────────┤ X ├─╫─┤M├\n",
       "                    └───┘ ║ └╥┘\n",
       "c: 2/═════════════════════╩══╩═\n",
       "                          0  1 </pre>"
      ],
      "text/plain": [
       "     ┌───┐                     \n",
       "q_0: ┤ X ├──■─────────■────────\n",
       "     ├───┤  │         │        \n",
       "q_1: ┤ X ├──┼────■────■────────\n",
       "     └───┘┌─┴─┐┌─┴─┐  │  ┌─┐   \n",
       "q_2: ─────┤ X ├┤ X ├──┼──┤M├───\n",
       "          └───┘└───┘┌─┴─┐└╥┘┌─┐\n",
       "q_3: ───────────────┤ X ├─╫─┤M├\n",
       "                    └───┘ ║ └╥┘\n",
       "c: 2/═════════════════════╩══╩═\n",
       "                          0  1 "
      ]
     },
     "execution_count": 14,
     "metadata": {},
     "output_type": "execute_result"
    }
   ],
   "source": [
    "#4 Let's Create 2 Qubits and 2 Classical Bits.\n",
    "# This means that we will not read the 2 qubit value, we will build the circuit to it. This is important.\n",
    "test_qc = QuantumCircuit(4, 2)\n",
    "\n",
    "# Let's Build Door X\n",
    "test_qc.x(0)\n",
    "test_qc.x(1)\n",
    "\n",
    "# We will connect the qubits to each other through gates. Here, we will do the work of 4 qubits with 2 bits.\n",
    "# We Are Installing CNOT Gate\n",
    "test_qc.cx(0,2) # We Paired the 0th Qubit with the 2nd Qubit.\n",
    "test_qc.cx(1,2) # We Paired the 1st Qubit with the 2nd Qubit\n",
    "test_qc.ccx(0,1,3) # Toffoli Gate. The Toffoli Gate uses two control qubits (qubits 0 and 1) and a target qubit (qubit 3). If both control qubits are |1⟩, it inverts the target qubit. This gate is used to control three qubits, and in this example if qubits 0 and 1 are |1⟩, it will invert qubit 3.\n",
    "\n",
    "# Finally, we will measure the bottom two qubits to extract the output\n",
    "test_qc.measure(2,0)\n",
    "test_qc.measure(3,1)\n",
    "test_qc.draw()"
   ]
  },
  {
   "cell_type": "code",
   "execution_count": 15,
   "id": "c80a0113",
   "metadata": {},
   "outputs": [
    {
     "data": {
      "text/plain": [
       "{'10': 1024}"
      ]
     },
     "execution_count": 15,
     "metadata": {},
     "output_type": "execute_result"
    }
   ],
   "source": [
    "# Result\n",
    "job = sim.run(test_qc)  # run the experiment\n",
    "result = job.result()   # get the results\n",
    "result.get_counts()     # interpret the results as a “counts” dictionary"
   ]
  }
 ],
 "metadata": {
  "kernelspec": {
   "display_name": "Python 3 (ipykernel)",
   "language": "python",
   "name": "python3"
  },
  "language_info": {
   "codemirror_mode": {
    "name": "ipython",
    "version": 3
   },
   "file_extension": ".py",
   "mimetype": "text/x-python",
   "name": "python",
   "nbconvert_exporter": "python",
   "pygments_lexer": "ipython3",
   "version": "3.8.17"
  }
 },
 "nbformat": 4,
 "nbformat_minor": 5
}
