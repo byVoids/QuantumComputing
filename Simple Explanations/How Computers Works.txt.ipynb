{
 "cells": [
  {
   "cell_type": "markdown",
   "id": "20089e33",
   "metadata": {},
   "source": [
    "# How (Traditional) Computers Work\n",
    "\n",
    "Classical computers operate based on the fundamental concept of bits. A **bit** is the basic unit of information in computing, represented as either a **1** or **0**. These binary values are at the core of how computers function, and they correspond to the **on** and **off** states of electronic circuits within the processor.\n",
    "\n",
    "Here's a simple interpretation:\n",
    "- **1**: On\n",
    "- **0**: Off\n",
    "\n",
    "These **1s** and **0s** are the languages that computers can understand, known as **Machine Language**. Unlike machine language, there are Low-Level and High-Level languages, one of which is **Assembly**.\n",
    "\n",
    "**Assembly** is a Low-Level language that can be read by humans and used to create algorithms. It allows us to provide commands to the computer, such as \"do this\" and \"then do that.\"\n",
    "\n",
    "On the other hand, High-Level languages like **Python**, **Java**, and **JavaScript** are commonly used in our daily lives. These modern programming languages make it easier for humans to write code. To delve into Machine Language and its details, you can search for \"What is Machine Language?\" on Google.\n",
    "\n",
    "## Terms to Know\n",
    "Now let's take it a step further and discuss some terms.\n",
    "\n",
    "**What is Binary? :**  Binary is a numerical system composed of 0's and 1's. Computers use binary as their fundamental language to represent and process information.\n",
    "\n",
    "**What is Decimal? :**  Decimal is a base-10 numerical system that includes the numbers 0 to 9. It is the number system we use in our everyday lives for counting and calculations.\n",
    "\n",
    "**What is Hexadecimal? :** Hexadecimal is a base-16 numerical system that is different from binary and decimal. In addition to the numbers 0 to 9, hexadecimal uses the letters A, B, C, D, E, and F to represent the values 10 to 15, respectively. For example, the hexadecimal expression \"B5F4\" corresponds to the decimal value 46580. You may encounter hexadecimal values when working with computer systems.\n",
    "\n",
    "All of these systems and definitions pertain to different ways of representing numbers. Computers can store and process information using various number systems. But how do we work with text? In the world of computing, we've primarily discussed numerical systems like binary, decimal, and hexadecimal. However, when it comes to representing and processing text, a different system comes into play - the ASCII and UTF-8 system.\n",
    "\n",
    "**What is ASCII (American Standard Code for Information Interchange)? :** ASCII stands for the American Standard Code for Information Interchange. It serves as a character encoding standard, facilitating the exchange of text data between computers. Unlike numerical systems, ASCII is designed for text, using either 7-bit or 8-bit encoding schemes to represent characters. In ASCII, each character, including letters, digits, punctuation marks, and some control characters, is associated with a numerical value. For example, the letter 'A' is represented as 65, 'B' as 66, and so on. To support different languages, texts, and alphabets worldwide, various systems have been developed based on ASCII. One such system is UTF-8.\n",
    "\n",
    "**What is UTF-8 (Unicode Transformation Format - 8-bit)? :**  \n",
    "\n",
    "UTF-8 is a widely adopted encoding standard in modern computer systems, catering to the needs of multilingual and multicultural text representation. While ASCII primarily covers the basic Latin alphabet characters, UTF-8 goes far beyond, encompassing characters from all languages across the globe. This makes UTF-8 an ideal choice for applications, websites, and documents that require support for multiple languages and scripts. In summary, the operation of classical computers revolves around the conversion of everything, including text, into binary representations. The ASCII and UTF-8 systems play crucial roles in enabling computers to handle and display text, making them versatile tools for processing both numbers and words.\n"
   ]
  },
  {
   "cell_type": "code",
   "execution_count": null,
   "id": "718a2c21",
   "metadata": {},
   "outputs": [],
   "source": []
  }
 ],
 "metadata": {
  "kernelspec": {
   "display_name": "Python 3 (ipykernel)",
   "language": "python",
   "name": "python3"
  },
  "language_info": {
   "codemirror_mode": {
    "name": "ipython",
    "version": 3
   },
   "file_extension": ".py",
   "mimetype": "text/x-python",
   "name": "python",
   "nbconvert_exporter": "python",
   "pygments_lexer": "ipython3",
   "version": "3.11.4"
  }
 },
 "nbformat": 4,
 "nbformat_minor": 5
}
