{
 "cells": [
  {
   "cell_type": "markdown",
   "id": "ad41702e",
   "metadata": {},
   "source": [
    "# 1. The Power of Entanglement\n",
    "\n",
    "### 1.1. Entanglement States and Simulation"
   ]
  },
  {
   "cell_type": "markdown",
   "id": "1c260274",
   "metadata": {},
   "source": [
    "Quantum computers use \"qubits\", which are basic elements that replace classical computers. A qubit can exist in a continuous range of amplitudes, in accordance with quantum mechanics, unlike the classical bits of a conventional computer, which are represented by 0 and 1. Therefore, much more information than 0 and 1 is needed to define the state of a qubit, and \"amplitudes\" are used to express this state.\n",
    "\n",
    "It may be necessary to track 2^n amplitudes to fully describe the state of n qubits in a quantum system. Therefore, simulating quantum systems containing large numbers of qubits can be a challenging task for conventional computers.\n",
    "\n",
    "Some clever methods can be used to make the simulation more manageable. For example, the initial state called “Product State” can refer to a state in which each qubit is independently defined by two amplitudes. Furthermore, implementing single-qubit gate circuits means that only the affected amplitude pairs need to be modified. In this way, measuring each qubit can be used to determine results, and these results indicate the states of the individual qubits.\n",
    "\n",
    "After certain operations, the states of the qubits remain product states. Each qubit is evaluated independently, allowing it to be tracked with 2n amplitudes instead of tracking with 2^n amplitudes. This approach means that n qubits are calculated and simulated individually. This could make tracking even thousands of qubits more manageable."
   ]
  },
  {
   "cell_type": "markdown",
   "id": "a0175f45",
   "metadata": {},
   "source": [
    "#### 1.1.2. Entangled States\n",
    "\n",
    "Quantum mechanics explains an interesting phenomenon called entangled states between particles. These coupled states are when two or more quantum particles interact with each other in such a way that the state of one particle instantly affects the state of the others. This interaction creates a kind of entanglement between particles, and the properties of one particle become linked to the properties of other particles. This conflicts with the independence principle in classical physics.\n",
    "\n",
    "Entangled states are an important resource for quantum computers because such connections between quantum bits, or qubits, provide the potential to solve particularly specific computational problems. Connecting qubits can enable calculations to be performed much faster and more efficiently than classical computers."
   ]
  },
  {
   "cell_type": "markdown",
   "id": "8eef4a10",
   "metadata": {},
   "source": [
    "#### 1.1.3. simulation\n",
    "\n",
    "Quantum computing offers the ability to perform calculations based on the rules of quantum mechanics. This is of great importance, especially for the simulation of complex and large-scale systems. While classical computers may be inadequate in simulating some complex systems, quantum computers can perform such simulations more effectively.\n",
    "\n",
    "Quantum computers offer the potential to simulate complex systems such as molecular structures, chemical reactions, material properties or financial models. This is of great importance in many fields, from drug design to climate modeling and financial risk analysis.\n",
    "\n",
    "As a result, quantum computers can perform complex calculations using connected states, which is a huge advantage, especially in large-scale simulations."
   ]
  },
  {
   "cell_type": "markdown",
   "id": "920d6fd3",
   "metadata": {},
   "source": [
    "### 1.2. Superdense Coding - Quantum Communication\n",
    "\n",
    "Now let's examine an example of Entanglement, which is also used in quantum communication. Quantum Communication, like quantum computing, is based on manipulating qubits with quantum gates. But it also includes the idea of transmitting qubits between different parties and explores applications based on sending information rather than processing it.\n",
    "\n",
    "In classical communication, there is a fundamental limit to how much information we can send with a given number of bits. By definition, when we send **n bits**, we cannot send more information than **n** bits. In quantum, a similar rule applies: no more than **n** bits of information can be reliably encoded and retrieved. But there are ways we can push the boundaries to do things that aren't classically possible, and for that we need Entanglement.\n",
    "\n",
    "-------------------------------------------------- ---------------------------\n",
    "\n",
    "This protocol is designed to optimize the transmission of information between a sender and a receiver using quantum bits or qubits (qubits).\n",
    "\n",
    "-------------------------------------------------- -----\n",
    "\n",
    "#### 1.2.1. How Does It Work?\n",
    "\n",
    "1. The sender (Alice) and the receiver (Bob) prepare two quantum qubits in a pair or entangled state. This situation refers to two qubits that are connected to each other and are in an inseparable relationship. In particular, associated states, called Bell states, are frequently used.\n",
    "\n",
    "2. When Alice wants to transmit a message to Bob, she manipulates the associated states using this message with a quantum operation (gate). The message does not need to be a number or a classical data representing information. This encodes the data in some way between two linked qubits.\n",
    "\n",
    "3. Alice then separates the connected states and obtains two separate qubits, each carrying classical information on them.\n",
    "\n",
    "4. Alice sends these two qubits to Bob.\n",
    "\n",
    "5. Bob makes some specific measurements on the received qubits and deciphers the message Alice wants to convey.\n",
    "\n",
    "The main advantage of superdense coding is that by using only two connected qubits, Alice can transmit 2 bits of information to Bob in a single quantum operation. This provides more efficient communication than a traditional communication protocol (e.g. sending classical two bits). This protocol is a useful example to demonstrate the potential of quantum communication and quantum computers in transmitting information.\n",
    "\n",
    "\n",
    "\n",
    "Let's talk about the above with an example."
   ]
  },
  {
   "cell_type": "code",
   "execution_count": 1,
   "id": "72d2006c",
   "metadata": {},
   "outputs": [
    {
     "name": "stdout",
     "output_type": "stream",
     "text": [
      "Statevector([0.70710678+0.j, 0.        +0.j, 0.        +0.j,\n",
      "             0.70710678+0.j],\n",
      "            dims=(2, 2))\n"
     ]
    },
    {
     "data": {
      "text/html": [
       "<pre style=\"word-wrap: normal;white-space: pre;background: #fff0;line-height: 1.1;font-family: &quot;Courier New&quot;,Courier,monospace\">     ┌───┐     ┌─┐   \n",
       "q_0: ┤ X ├─────┤M├───\n",
       "     └─┬─┘┌───┐└╥┘┌─┐\n",
       "q_1: ──■──┤ H ├─╫─┤M├\n",
       "          └───┘ ║ └╥┘\n",
       "c: 2/═══════════╩══╩═\n",
       "                0  1 </pre>"
      ],
      "text/plain": [
       "     ┌───┐     ┌─┐   \n",
       "q_0: ┤ X ├─────┤M├───\n",
       "     └─┬─┘┌───┐└╥┘┌─┐\n",
       "q_1: ──■──┤ H ├─╫─┤M├\n",
       "          └───┘ ║ └╥┘\n",
       "c: 2/═══════════╩══╩═\n",
       "                0  1 "
      ]
     },
     "execution_count": 1,
     "metadata": {},
     "output_type": "execute_result"
    }
   ],
   "source": [
    "from qiskit import QuantumCircuit, execute, Aer\n",
    "from qiskit.visualization import plot_histogram\n",
    "from qiskit.providers.aer import StatevectorSimulator\n",
    "from qiskit.visualization import plot_state_city\n",
    "\n",
    "MESSAGE = '00'\n",
    "\n",
    "qc_alice = QuantumCircuit(2, 2)\n",
    "\n",
    "# Alice encodes the message\n",
    "if MESSAGE[-1] == '1':\n",
    "    qc_alice.x(0)\n",
    "if MESSAGE[-2] == '1':\n",
    "    qc_alice.x(1)\n",
    "\n",
    "# Then she creates entangled states\n",
    "qc_alice.h(1)\n",
    "qc_alice.cx(1, 0)\n",
    "\n",
    "simulator = Aer.get_backend('statevector_simulator')\n",
    "ket = execute(qc_alice, simulator).result().get_statevector()\n",
    "\n",
    "print(ket)\n",
    "\n",
    "qc_bob = QuantumCircuit(2, 2)\n",
    "\n",
    "# Bob disentangles\n",
    "qc_bob.cx(1, 0)\n",
    "qc_bob.h(1)\n",
    "\n",
    "# Then measures\n",
    "qc_bob.measure([0, 1], [0, 1])\n",
    "\n",
    "qc_bob.draw()\n"
   ]
  },
  {
   "cell_type": "markdown",
   "id": "94ff5510",
   "metadata": {},
   "source": [
    "-------------------------------------------------- ---------\n",
    "Superdense coding protocol is actually a quantum communication protocol and is essentially designed to transmit 2-bit messages using quantum bits (qubits). Therefore, it is not possible for the protocol to work directly with text.\n",
    "\n",
    "-------------------------------------------------- ---------"
   ]
  },
  {
   "cell_type": "code",
   "execution_count": null,
   "id": "46e38850",
   "metadata": {},
   "outputs": [],
   "source": []
  }
 ],
 "metadata": {
  "kernelspec": {
   "display_name": "Python 3 (ipykernel)",
   "language": "python",
   "name": "python3"
  },
  "language_info": {
   "codemirror_mode": {
    "name": "ipython",
    "version": 3
   },
   "file_extension": ".py",
   "mimetype": "text/x-python",
   "name": "python",
   "nbconvert_exporter": "python",
   "pygments_lexer": "ipython3",
   "version": "3.11.5"
  }
 },
 "nbformat": 4,
 "nbformat_minor": 5
}
