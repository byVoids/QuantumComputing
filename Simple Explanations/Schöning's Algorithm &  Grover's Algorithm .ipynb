{
 "cells": [
  {
   "cell_type": "markdown",
   "id": "67e68144",
   "metadata": {},
   "source": [
    "-----------------------------------"
   ]
  },
  {
   "cell_type": "markdown",
   "id": "9079a2b3",
   "metadata": {},
   "source": [
    "**Schöning's Algorithm &  Grover's Algorithm**"
   ]
  },
  {
   "cell_type": "markdown",
   "id": "02c30713",
   "metadata": {},
   "source": [
    "*Schöning's Algorithm and Grover's Algorithm are both quantum algorithms used to find the correct answer within a set. However, there are significant differences between the two algorithms.*\n",
    "\n",
    "*Schöning's Algorithm uses polynomial time to find the correct answer. This means that the number of steps required to reach the correct answer is proportional to the size of the set. For example, in a set of 100 elements, Schöning's Algorithm would require 100 steps to find the correct answer.*\n",
    "\n",
    "*On the other hand, Grover's Algorithm uses square-root time to find the correct answer. This implies that the number of steps required to reach the correct answer is proportional to the square root of the size of the set. For instance, in a set of 100 elements, Grover's Algorithm would only need 10 steps to find the correct answer.*\n",
    "\n",
    "Therefore, Grover's Algorithm is faster than Schöning's Algorithm. However, Grover's Algorithm is more complex than Schöning's Algorithm.\n",
    "\n",
    "**Advantages of Schöning's Algorithm:**\n",
    "\n",
    "* Simple.\n",
    "* Easily applicable.\n",
    "\n",
    "**Disadvantages of Schöning's Algorithm:**\n",
    "\n",
    "* Slow.\n",
    "\n",
    "**Advantages of Grover's Algorithm:**\n",
    "\n",
    "* Fast.\n",
    "\n",
    "**Disadvantages of Grover's Algorithm:**\n",
    "\n",
    "Complex."
   ]
  },
  {
   "cell_type": "markdown",
   "id": "3d6512be",
   "metadata": {},
   "source": [
    "----------------------------------"
   ]
  },
  {
   "cell_type": "markdown",
   "id": "da4bd162",
   "metadata": {},
   "source": [
    "**Which algorithm should be used**\n",
    "\n",
    "Which algorithm should be used depends on the application. If speed is important, Grover's Algorithm is preferred. However, if complexity is important, Schöning's Algorithm is preferred.\n",
    "\n",
    "For example, if you are designing a decryption algorithm, speed will be important. In this case, using Grover's Algorithm would be a better choice. However, if you are designing a cluster sorting algorithm, complexity will be important. In this case, using Schöning's Algorithm would be a better choice.\n",
    "\n"
   ]
  },
  {
   "cell_type": "markdown",
   "id": "b6041876",
   "metadata": {},
   "source": [
    "----------------------------------------"
   ]
  },
  {
   "cell_type": "markdown",
   "id": "106d8428",
   "metadata": {},
   "source": [
    "**Summary**\n",
    "\n",
    "Schöning's Algorithm and Grover's Algorithm are both quantum algorithms for finding the correct answer inside a set. However, there are important differences between the two algorithms. Schöning's Algorithm uses polynomial time to find the correct answer and is simple. Grover's Algorithm uses root-time to find the correct answer and is complex. Which algorithm should be used depends on the application. If speed is important, Grover's Algorithm is preferred. However, if complexity is important, Schöning's Algorithm is preferred.\n",
    "\n",
    "**Example**\n",
    "\n",
    "In a set of 100 elements, Schöning's Algorithm needs to take 100 steps to find the correct answer. Grover's Algorithm, on the other hand, needs to take 10 steps to find the correct answer in this set. Therefore, Grover's Algorithm is 10 times faster than Schöning's Algorithm. However, Grover's Algorithm is more complex than Schöning's Algorithm.\n",
    "\n"
   ]
  },
  {
   "cell_type": "markdown",
   "id": "27cdc897",
   "metadata": {},
   "source": [
    "----------------------------------"
   ]
  }
 ],
 "metadata": {
  "kernelspec": {
   "display_name": "Python 3 (ipykernel)",
   "language": "python",
   "name": "python3"
  },
  "language_info": {
   "codemirror_mode": {
    "name": "ipython",
    "version": 3
   },
   "file_extension": ".py",
   "mimetype": "text/x-python",
   "name": "python",
   "nbconvert_exporter": "python",
   "pygments_lexer": "ipython3",
   "version": "3.11.5"
  }
 },
 "nbformat": 4,
 "nbformat_minor": 5
}
