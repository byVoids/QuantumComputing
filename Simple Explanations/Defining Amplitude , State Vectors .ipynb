{
 "cells": [
  {
   "attachments": {
    "download.png": {
     "image/png": "[encoded data removed]"
    }
   },
   "cell_type": "markdown",
   "id": "3bab8f9a",
   "metadata": {},
   "source": [
    "# 1. Defining Amplitude\n",
    "\n",
    "While a classical probability is usually represented by a real number between 0 and 1, amplitudes also have a direction. When representing amplitudes, they are expressed as complex numbers. While a classical probability is usually represented by a real number between 0 and 1, amplitudes also have a direction. Candidate complex numbers are used to represent the amplitude. Complex numbers can be formed from combinations of real and imaginary numbers. A complex number can also be completely described by both magnitude and direction.\n",
    "\n",
    "![download.png](attachment:download.png)\n",
    "\n",
    "                        (Amplitude Magnitude squared gives the Magnitude of Probability.)\n",
    "                        \n",
    "**We can define an amplitude as a number between -1<=amplitude=>+1.**"
   ]
  },
  {
   "cell_type": "markdown",
   "id": "d0c9f14e",
   "metadata": {},
   "source": [
    "# 2. State Vectors \n",
    "\n",
    "We can predict the behavior of a quantum system by tracking the probability amplitudes of each outcome. In a quantum system with **n qubits**, there are **2^n possible** outcomes. These outcomes can be stored in lists of length **2^n,** and these lists are called state vectors. These vectors are called state vectors because they describe the state of the qubits.\n",
    "\n",
    "For example, in a quantum system with a single qubit, there are two possible outcomes: 0 or 1. These outcomes can be stored in a vector like the one below:"
   ]
  },
  {
   "cell_type": "code",
   "execution_count": null,
   "id": "761a9160",
   "metadata": {},
   "outputs": [],
   "source": [
    "[1/√2, 1/√2]\n",
    "\n",
    "# This vector indicates that the qubit is in state 0 with 50% probability and 1 with 50% probability."
   ]
  },
  {
   "cell_type": "markdown",
   "id": "792c18d8",
   "metadata": {},
   "source": [
    "# 3. How Many Different State Vectors Are There?\n",
    "\n",
    "We know that we can represent any quantum state using vectors, but is any vector a valid quantum state? To find the Probability Magnitude we square our amplitudes and the sum of these squares must be 1, otherwise it doesn't make sense.\n",
    "\n",
    "**Global Phases**\n",
    "\n",
    "**\"Global phases\"** refer to phase changes in the vector in which a quantum state is represented. In quantum mechanics, since we can only measure phase differences, the effects on the physical behavior of a state often depend on these phase differences.\n",
    "\n",
    "One speaks of rotating all amplitudes by the same amount (with the same phase difference). This refers to a transformation in which all amplitudes in the vector representing a quantum state are swapped with the same phase difference. The important thing is that such a phase transformation does not affect the physical behavior, i.e. it does not change the results. This is one of the properties of quantum mechanics and shows that quantum systems do not evolve with respect to a specific phase onset, but only with respect to phase differences. Therefore, from the point of view of quantum mechanics, it can be said that vectors are not sensitive to such global phase transformations and do not affect physical behavior."
   ]
  }
 ],
 "metadata": {
  "kernelspec": {
   "display_name": "Python 3 (ipykernel)",
   "language": "python",
   "name": "python3"
  },
  "language_info": {
   "codemirror_mode": {
    "name": "ipython",
    "version": 3
   },
   "file_extension": ".py",
   "mimetype": "text/x-python",
   "name": "python",
   "nbconvert_exporter": "python",
   "pygments_lexer": "ipython3",
   "version": "3.8.17"
  }
 },
 "nbformat": 4,
 "nbformat_minor": 5
}
