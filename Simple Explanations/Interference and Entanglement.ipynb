{
 "cells": [
  {
   "cell_type": "markdown",
   "id": "fd94c9e1",
   "metadata": {},
   "source": [
    "# 1. Interference and Entanglement\n",
    "\n",
    "### 1.1. Interference\n",
    "\n",
    "Classical computers use bits to represent data as 0s and 1s. These bits can only exist in two different states, such as when a switch is on or off. Quantum computers, on the other hand, use qubits, which can exist as linear combinations of both 0s and 1s. These combinations are known as superpositions. Calculations on quantum computers are performed using superposition. For example, a quantum computer can be used to predict whether a key is open or closed. To do this, a superposition of the two possible states of the key is prepared. This superposition is then used as input to a quantum circuit that changes the components of the superposition depending on the state of the switch. After the relative amplitudes and phases of the input state are canceled, the remaining superposition component is an estimate of the state of the switch.\n",
    "\n",
    "**Let's explain with a simple example:**\n",
    "\n",
    "A quantum computer can be used to predict the outcome of a roll of the dice. The dice has six possible outcomes: 1, 2, 3, 4, 5 and 6. The quantum computer can prepare a superposition of these six outcomes. This superposition is then used as input to a quantum circuit, which is modified so that when the die is thrown, one of the components of the superposition has a larger amplitude than the others. This means that the result of the dice roll is the component of the superposition with the larger amplitude.\n",
    "\n",
    "-----------"
   ]
  },
  {
   "cell_type": "markdown",
   "id": "5b37a2ab",
   "metadata": {},
   "source": [
    "### 1.2. Entanglement\n",
    "\n",
    "The second principle of quantum mechanics that quantum computing can utilize is the phenomenon of entanglement. Entanglement is a state in which the states of two or more qubits (or particles in general) are related. This relationship persists even when the qubits are at great distances from each other. Entanglement is a fundamental property that enables quantum computers to perform much faster calculations. For example, using two entangled qubits, a quantum computer can predict the outcome of a roll of the dice much faster than a classical computer can solve it. Entanglement is one of the most fundamental and mysterious properties of quantum mechanics. Albert Einstein referred to entanglement as a **\"strange effect at a distance\".**\n",
    "\n",
    "### 1.2.1. How Does Entanglement Work?\n",
    "\n",
    "Entanglement starts with the process by which qubits are created. Entangled qubits are usually created using a quantum processor or quantum laser. Entanglement is maintained by the qubits being in superposition. Superposition is a state in which a qubit can be in both the 0 and 1 state at the same time.\n",
    "\n",
    "###  1.2.2.  What is Entanglement used for?\n",
    "\n",
    "Entanglement is a crucial property for quantum computing. By using entanglement, quantum computers can perform calculations much faster than a classical computer can solve them\n",
    "Entanglement is also important for other quantum technologies. For example, entanglement can be used for quantum communication and quantum teleportation.\n",
    "\n",
    "### 1.2.3. Some Xxamples of Entanglement\n",
    "\n",
    "Quantum computing: Using entanglement, quantum computers can perform calculations much faster than a classical computer can solve them. For example, using two entangled qubits, a quantum computer can predict the outcome of a dice roll much faster than a classical computer can solve it. \n",
    "\n",
    "* Quantum communication: Entanglement can be used for quantum communication. For example, two people could use entangled qubits to send encrypted messages to each other.\n",
    "* Quantum teleportation: Entanglement can be used for quantum teleportation. For example, the state of one qubit can be transferred to another using an entangled qubit.\n",
    "\n",
    "### 1.2.4. Some Challenges Related to Entanglement\n",
    "\n",
    "Entanglement is one of the most fundamental and mysterious properties of quantum mechanics. There are some difficulties with entanglement. For example, entanglement can be easily broken by environmental influences\n"
   ]
  }
 ],
 "metadata": {
  "kernelspec": {
   "display_name": "Python 3 (ipykernel)",
   "language": "python",
   "name": "python3"
  },
  "language_info": {
   "codemirror_mode": {
    "name": "ipython",
    "version": 3
   },
   "file_extension": ".py",
   "mimetype": "text/x-python",
   "name": "python",
   "nbconvert_exporter": "python",
   "pygments_lexer": "ipython3",
   "version": "3.8.17"
  }
 },
 "nbformat": 4,
 "nbformat_minor": 5
}
