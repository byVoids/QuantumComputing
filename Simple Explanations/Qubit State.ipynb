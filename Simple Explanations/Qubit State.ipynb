{
 "cells": [
  {
   "cell_type": "markdown",
   "id": "08292948",
   "metadata": {},
   "source": [
    "# What is Qubit State ? "
   ]
  },
  {
   "cell_type": "markdown",
   "id": "acf9f644",
   "metadata": {},
   "source": [
    "Qubit state refers to the state in quantum mechanics of the qubit, the fundamental unit of information in quantum computing.Qubits can take values 0 and 1 like bits in classical computers, but they are also in a state called quantum superposition. This means that a qubit can be both 0 and 1 at the same time.\n",
    "\n",
    "The qubit state is usually represented by a two-dimensional sphere called a Bloch sphere. Any point on the Bloch sphere represents a possible state of the qubit. The north pole of the Bloch sphere represents the ∣0⟩ state, the south pole represents the ∣1⟩ state, and the other points of the sphere represent the superpositions of the ∣0⟩ and ∣1⟩ states.\n",
    "\n",
    "The state of the qubit is usually represented by a two-dimensional vector like this:\n",
    "\n",
    "|ψ⟩ = α|0⟩ + β|1⟩\n",
    "\n",
    "-----------------"
   ]
  },
  {
   "cell_type": "markdown",
   "id": "0e6e4fa8",
   "metadata": {},
   "source": [
    "Here α and β are complex numbers and |α|^2 + |β|^2 = 1. |α|^2 and |β|^2 represent the probabilities of the qubit being in the ∣0⟩ and ∣1⟩ states.\n",
    "\n",
    "The state of the qubit collapses into one of the ∣0⟩ or ∣1⟩ states when measured. The probability of measurement results depends on the state of the qubit before the measurement. For example, if the qubit is in the ∣0⟩ state, the probability of the measurement result being ∣0⟩ is 1.\n",
    "\n",
    "Qubit states are at the core of quantum computing. Quantum algorithms are designed using quantum properties of qubits, such as superposition and entanglement. Accurate control and measurement of the qubit state is crucial for the successful operation of quantum computers."
   ]
  }
 ],
 "metadata": {
  "kernelspec": {
   "display_name": "Python 3 (ipykernel)",
   "language": "python",
   "name": "python3"
  },
  "language_info": {
   "codemirror_mode": {
    "name": "ipython",
    "version": 3
   },
   "file_extension": ".py",
   "mimetype": "text/x-python",
   "name": "python",
   "nbconvert_exporter": "python",
   "pygments_lexer": "ipython3",
   "version": "3.11.4"
  }
 },
 "nbformat": 4,
 "nbformat_minor": 5
}
