{
 "cells": [
  {
   "cell_type": "markdown",
   "id": "0e0e9e4e",
   "metadata": {},
   "source": [
    "# Complex Numbers\n",
    "------"
   ]
  },
  {
   "cell_type": "markdown",
   "id": "d5ccf402",
   "metadata": {},
   "source": [
    "**Complex Number** is a mathematical construct with a number called an imaginary unit, denoted as \"i\" or \"j\". Complex numbers are numbers that have a real part and an imaginary part, and are usually expressed in the following format: a + bi or a + bj, where \"a\" represents the real part and \"b\" represents the imaginary part. For example, 3 + 2i is a complex number.\n",
    "\n",
    "------"
   ]
  },
  {
   "cell_type": "markdown",
   "id": "41a5b251",
   "metadata": {},
   "source": [
    "**Complex Conjugate** is a complex number obtained by reversing the sign of the imaginary part of a complex number. For example, the complex conjugate of the complex number (5 - 4i) is expressed as (5 + 4i).\n",
    "\n",
    "-----"
   ]
  },
  {
   "cell_type": "markdown",
   "id": "1f9f037f",
   "metadata": {},
   "source": [
    "**Squared Magnitude** is a term that refers to the square of the absolute value of a complex number. The absolute value of a complex number represents its distance from zero, usually \"||z||\" or denoted by \"abs(z)\". If the complex number z = a + bi, its absolute value is |z| It is calculated as = √(a^2 + b^2). The squared absolute value is the square of this expression: |z|^2 = a^2 + b^2."
   ]
  },
  {
   "cell_type": "markdown",
   "id": "36a08d20",
   "metadata": {},
   "source": [
    "**Now, let's explain the equation Complex Number x Complex Conjugate = Squared Magnitude:**\n",
    "\n",
    "If z = a + bi is a complex number, the complex conjugate of this complex number is z* = a - bi. Now, if we multiply z by z*:\n",
    "\n",
    "z * z = (a + bi)(a - bi)\n",
    "\n",
    "When we deploy this process:\n",
    "\n",
    "z * z = a^2 - (bi)^2\n",
    "\n",
    "Remember that i^2 = -1. Using this information:\n",
    "\n",
    "z * z = a^2 - (-1)(b^2) = a^2 + b^2\n",
    "\n",
    "This tells us that z * z is equal to the squared absolute value:\n",
    "\n",
    "z * z = |z|^2\n",
    "\n",
    "-----------"
   ]
  },
  {
   "cell_type": "markdown",
   "id": "230b3bc7",
   "metadata": {},
   "source": [
    "As a result, the equation Complex Number x Complex Conjugate = Squared Magnitude is true and the product of a complex number itself and its complex conjugate is equal to the squared absolute value of that complex number."
   ]
  }
 ],
 "metadata": {
  "kernelspec": {
   "display_name": "Python 3 (ipykernel)",
   "language": "python",
   "name": "python3"
  },
  "language_info": {
   "codemirror_mode": {
    "name": "ipython",
    "version": 3
   },
   "file_extension": ".py",
   "mimetype": "text/x-python",
   "name": "python",
   "nbconvert_exporter": "python",
   "pygments_lexer": "ipython3",
   "version": "3.11.4"
  }
 },
 "nbformat": 4,
 "nbformat_minor": 5
}
