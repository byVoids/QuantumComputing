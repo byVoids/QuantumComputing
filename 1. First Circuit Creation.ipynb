{
 "cells": [
  {
   "cell_type": "markdown",
   "id": "81923d9f",
   "metadata": {},
   "source": [
    "**1) Circuit Creation with Qiskit**\n",
    "\n",
    "To create a quantum circuit we will import **QuantumCircuit** and create a new QuantumCircuit object."
   ]
  },
  {
   "cell_type": "code",
   "execution_count": 10,
   "id": "58d708a3",
   "metadata": {},
   "outputs": [],
   "source": [
    "# 1. Libraries.. \n",
    "from qiskit import QuantumCircuit\n",
    "from qiskit.providers.aer import AerSimulator"
   ]
  },
  {
   "cell_type": "markdown",
   "id": "dfc0ae46",
   "metadata": {},
   "source": [
    "Now we will create 3 Qubits to perform Quantum Computing operations and 3 Bits for the Classical computer to understand it. To express the reason why we create classical bits differently, it can be said that we need classical bits to store the measurements of Qubits."
   ]
  },
  {
   "cell_type": "code",
   "execution_count": 4,
   "id": "5431abdc",
   "metadata": {},
   "outputs": [
    {
     "data": {
      "text/html": [
       "<pre style=\"word-wrap: normal;white-space: pre;background: #fff0;line-height: 1.1;font-family: &quot;Courier New&quot;,Courier,monospace\">     \n",
       "q_0: \n",
       "     \n",
       "q_1: \n",
       "     \n",
       "q_2: \n",
       "     \n",
       "c: 3/\n",
       "     </pre>"
      ],
      "text/plain": [
       "     \n",
       "q_0: \n",
       "     \n",
       "q_1: \n",
       "     \n",
       "q_2: \n",
       "     \n",
       "c: 3/\n",
       "     "
      ]
     },
     "execution_count": 4,
     "metadata": {},
     "output_type": "execute_result"
    }
   ],
   "source": [
    "# 2. Let's create Bit and Qubit and draw the circuit.\n",
    "qc = QuantumCircuit(3, 3)\n",
    "qc.draw() # We Draw the Circuit"
   ]
  },
  {
   "cell_type": "markdown",
   "id": "b46ce548",
   "metadata": {},
   "source": [
    "Then need a way to tell our quantum computer to measure our qubits and record the results. To do this, add a \"measurement\" operation to our quantum circuit. QuantumCircuit, can do this with the measuring method."
   ]
  },
  {
   "cell_type": "code",
   "execution_count": 5,
   "id": "1e148258",
   "metadata": {},
   "outputs": [
    {
     "data": {
      "text/html": [
       "<pre style=\"word-wrap: normal;white-space: pre;background: #fff0;line-height: 1.1;font-family: &quot;Courier New&quot;,Courier,monospace\">     ┌─┐      \n",
       "q_0: ┤M├──────\n",
       "     └╥┘┌─┐   \n",
       "q_1: ─╫─┤M├───\n",
       "      ║ └╥┘┌─┐\n",
       "q_2: ─╫──╫─┤M├\n",
       "      ║  ║ └╥┘\n",
       "c: 3/═╩══╩══╩═\n",
       "      0  1  2 </pre>"
      ],
      "text/plain": [
       "     ┌─┐      \n",
       "q_0: ┤M├──────\n",
       "     └╥┘┌─┐   \n",
       "q_1: ─╫─┤M├───\n",
       "      ║ └╥┘┌─┐\n",
       "q_2: ─╫──╫─┤M├\n",
       "      ║  ║ └╥┘\n",
       "c: 3/═╩══╩══╩═\n",
       "      0  1  2 "
      ]
     },
     "execution_count": 5,
     "metadata": {},
     "output_type": "execute_result"
    }
   ],
   "source": [
    "# 3. Measure Quantum Bits and Classic Bits respectively\n",
    "qc.measure([0,1,2], [0,1,2])\n",
    "qc.draw()"
   ]
  },
  {
   "cell_type": "markdown",
   "id": "1ea8b4d5",
   "metadata": {},
   "source": [
    "Now let's see what the results of running this circuit will be. To do this, we will use a quantum simulator, which is a standard computer that calculates what an ideal quantum computer would do.\n",
    "\n",
    "**Simulating a quantum computer is believed to be difficult for classical computers because the best algorithms have grow exponentially with the number of qubits. Therefore, these simulations are only possible for circuits with small numbers of qubits (up to ~30 qubits) or for certain types of circuits where can use some tricks to speed up the simulation. However, simulators are very useful tools for designing smaller quantum circuits.**\n",
    "\n",
    "Let's import Qiskit's simulator **(called Aer)** and create a new simulator object."
   ]
  },
  {
   "cell_type": "code",
   "execution_count": 12,
   "id": "1c89c400",
   "metadata": {},
   "outputs": [],
   "source": [
    "# 4. Let's set up a simulation.\n",
    "sim = AerSimulator()  "
   ]
  },
  {
   "cell_type": "markdown",
   "id": "d25615d4",
   "metadata": {},
   "source": [
    "We use the **result** method to get results from work, and the most popular way to display results is using **counts**."
   ]
  },
  {
   "cell_type": "code",
   "execution_count": 13,
   "id": "79e82a60",
   "metadata": {},
   "outputs": [
    {
     "data": {
      "text/plain": [
       "{'000': 1024}"
      ]
     },
     "execution_count": 13,
     "metadata": {},
     "output_type": "execute_result"
    }
   ],
   "source": [
    "# 5. Run\n",
    "job = sim.run(qc)      # run the experiment\n",
    "result = job.result()  # get the results\n",
    "result.get_counts()    # interpret the results as a \"counts\" "
   ]
  },
  {
   "cell_type": "markdown",
   "id": "fb80b2b3",
   "metadata": {},
   "source": [
    "The value of the result expression is the bit strings, and the values are the number of times the bit string was measured.\n",
    "\n",
    "Quantum computers can have randomness in their results, so it is common to repeat the circuit several times. This circuit was repeated **1024 times;** this is the default number of iterations of a circuit in Qiskit."
   ]
  }
 ],
 "metadata": {
  "kernelspec": {
   "display_name": "Python 3 (ipykernel)",
   "language": "python",
   "name": "python3"
  },
  "language_info": {
   "codemirror_mode": {
    "name": "ipython",
    "version": 3
   },
   "file_extension": ".py",
   "mimetype": "text/x-python",
   "name": "python",
   "nbconvert_exporter": "python",
   "pygments_lexer": "ipython3",
   "version": "3.8.17"
  }
 },
 "nbformat": 4,
 "nbformat_minor": 5
}
