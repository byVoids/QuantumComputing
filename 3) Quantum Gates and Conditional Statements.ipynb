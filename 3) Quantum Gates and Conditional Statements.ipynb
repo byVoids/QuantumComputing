{
 "cells": [
  {
   "cell_type": "markdown",
   "id": "ca7cd969",
   "metadata": {},
   "source": [
    "**Overview**\n",
    "\n",
    "Quantum computing describes the process of information processing using quantum mechanics instead of classical computers. A fundamental component of this is the quantum circuit. A quantum circuit is a computational arrangement that performs specific quantum operations. This circuit performs computations by utilizing a sequence of operations called quantum gates. Additionally, it can be synchronized with real-time classical computations. These circuits, used to process quantum data, can solve any quantum computing problem using a universally accepted set of operations. As a result, quantum programs are expressed as a combination of such quantum circuits and sometimes classical computations.\n",
    "\n",
    "In Qiskit, this fundamental element is represented by the **QuantumCircuit** class."
   ]
  },
  {
   "cell_type": "markdown",
   "id": "63696fec",
   "metadata": {},
   "source": [
    "**1. QuantumCircuit**\n",
    "\n",
    "--------------"
   ]
  },
  {
   "attachments": {
    "download.png": {
     "image/png": "[encoded data removed]"
    }
   },
   "cell_type": "markdown",
   "id": "d90c41bf",
   "metadata": {},
   "source": [
    "![download.png](attachment:download.png)\n",
    "\n",
    "Yukarıda böyle verilen bir durum olsun, biz de bu durumu Qiskit kullanarak kodlamaya çalışalim. "
   ]
  },
  {
   "cell_type": "code",
   "execution_count": 2,
   "id": "be27d348",
   "metadata": {},
   "outputs": [
    {
     "data": {
      "image/png": "[encoded data removed]",
      "text/plain": [
       "<Figure size 371.107x284.278 with 1 Axes>"
      ]
     },
     "execution_count": 2,
     "metadata": {},
     "output_type": "execute_result"
    }
   ],
   "source": [
    "# 1. Let's Add Libraries..\n",
    "from qiskit import QuantumCircuit\n",
    "\n",
    "# 2. Since 3 Qubits are seen here, let's add 3 Qubits..\n",
    "circ = QuantumCircuit(3)\n",
    "\n",
    "# 3. # In Example 3, We Can Understand That It Is In Superposition. \n",
    "# So Let's Put the Example in Superposition.\n",
    "# Let's Build a Hadamard Gate for This. We put this in the 0.\n",
    "# Start Qubit so that we can change it after starting.\n",
    "circ.h(0)\n",
    "\n",
    "# 4. Then let's set up a CX Gate to change the values from 0 to 1.\n",
    "# This process is a gate that creates the Bell state.\n",
    "# The Bell state is a special quantum connection between two qubits.\n",
    "circ.cx(0, 1)\n",
    "\n",
    "#5. Let's Build Another CX Gate So That The Other Qubit Can Change.\n",
    "# This process creates the GHZ (Greenberger-Horne-Zeilinger) state. \n",
    "circ.cx(0, 2)\n",
    "\n",
    "# Draw the circuit\n",
    "circ.draw('mpl')\n",
    "\n",
    "\n",
    "# CX gate is installed as many Qubits minus 1."
   ]
  },
  {
   "cell_type": "markdown",
   "id": "374c7db8",
   "metadata": {},
   "source": [
    "**2.Quantum Circuit with conditional statements**"
   ]
  },
  {
   "cell_type": "markdown",
   "id": "e49a66d8",
   "metadata": {},
   "source": [
    "If we want to direct quantum operations of classical information and implement the relevant quantum gates in cases that meet certain conditions, we use the **c_if()** structure.\n",
    "\n",
    "Let's discuss this in the following steps."
   ]
  },
  {
   "cell_type": "code",
   "execution_count": 3,
   "id": "b6160013",
   "metadata": {},
   "outputs": [
    {
     "data": {
      "image/png": "[encoded data removed]",
      "text/plain": [
       "<Figure size 287.093x200.667 with 1 Axes>"
      ]
     },
     "execution_count": 3,
     "metadata": {},
     "output_type": "execute_result"
    }
   ],
   "source": [
    "# 1. Let's Add Libraries..\n",
    "from qiskit import BasicAer, transpile, QuantumRegister, ClassicalRegister, QuantumCircuit\n",
    "\n",
    "# 2. Lets Define Our Circuit. \n",
    "qr = QuantumRegister(1) # 1 Qubit\n",
    "cr = ClassicalRegister(1) # 1 Bit\n",
    "qc = QuantumCircuit(qr, cr)\n",
    "qc.h(0) # Hadamard Gate\n",
    "qc.measure(0, 0) # Measure\n",
    "qc.draw('mpl')"
   ]
  },
  {
   "cell_type": "code",
   "execution_count": 4,
   "id": "d6692207",
   "metadata": {},
   "outputs": [
    {
     "name": "stdout",
     "output_type": "stream",
     "text": [
      "{'1': 504, '0': 520}\n"
     ]
    }
   ],
   "source": [
    "backend = BasicAer.get_backend('qasm_simulator') #Simülatör\n",
    "tqc = transpile(qc, backend)\n",
    "counts = backend.run(tqc).result().get_counts() #Kaç defa ne ölçtü..\n",
    " \n",
    "print(counts)\n",
    "\n",
    "# The result is quite normal. The Hadamard gate split the odds.\n",
    "# He put 0 and 1 in superposition, that is, with equal probability!.\n"
   ]
  },
  {
   "cell_type": "code",
   "execution_count": 5,
   "id": "4c44658b",
   "metadata": {},
   "outputs": [
    {
     "data": {
      "image/png": "[encoded data removed]",
      "text/plain": [
       "<Figure size 454.719x200.667 with 1 Axes>"
      ]
     },
     "execution_count": 5,
     "metadata": {},
     "output_type": "execute_result"
    }
   ],
   "source": [
    "from qiskit import BasicAer, transpile, QuantumRegister, ClassicalRegister, QuantumCircuit\n",
    " \n",
    "qr = QuantumRegister(1)\n",
    "cr = ClassicalRegister(1)\n",
    "qc = QuantumCircuit(qr, cr)\n",
    "qc.h(0)\n",
    "qc.measure(0, 0)\n",
    " \n",
    "qc.x(0).c_if(cr, 0)\n",
    "qc.measure(0, 0)\n",
    " \n",
    "qc.draw('mpl')"
   ]
  },
  {
   "cell_type": "markdown",
   "id": "c8e4a773",
   "metadata": {},
   "source": [
    "What needs to be changed here is the **c_if** command.\n",
    "\n",
    "* **(qc.x(0).c_if(cr, 0)).** This checks the value of the classic register. If the value of the classical register is 0, gate X is applied. That is, if the previous measurement result is 0, this step works, otherwise it does not work."
   ]
  },
  {
   "cell_type": "code",
   "execution_count": 6,
   "id": "98197de6",
   "metadata": {},
   "outputs": [
    {
     "name": "stdout",
     "output_type": "stream",
     "text": [
      "{'1': 1024}\n"
     ]
    }
   ],
   "source": [
    "backend = BasicAer.get_backend('qasm_simulator')\n",
    "tqc = transpile(qc, backend)\n",
    "counts = backend.run(tqc).result().get_counts()\n",
    " \n",
    "print(counts)"
   ]
  }
 ],
 "metadata": {
  "kernelspec": {
   "display_name": "Python 3 (ipykernel)",
   "language": "python",
   "name": "python3"
  },
  "language_info": {
   "codemirror_mode": {
    "name": "ipython",
    "version": 3
   },
   "file_extension": ".py",
   "mimetype": "text/x-python",
   "name": "python",
   "nbconvert_exporter": "python",
   "pygments_lexer": "ipython3",
   "version": "3.11.5"
  }
 },
 "nbformat": 4,
 "nbformat_minor": 5
}
